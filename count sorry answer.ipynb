{
 "cells": [
  {
   "cell_type": "markdown",
   "metadata": {},
   "source": [
    "\n",
    "Experiment Explanation\n",
    "\n",
    "CONTEXT: We have a Question Answering service. Sometimes the service returns answers like 'Sorry, but I do not know'. Let's name these 'Sorry' answers. These answers:\n",
    "* do not help users;\n",
    "* can indicate that something is wrong with the context of the questions that cause these types of answers.\n",
    "BUT! We use generative AI for question answering. So, it's reasonable to expect that 'Sorry' Answers will have different forms.\n",
    "\n",
    "GOAL: To count 'Sorry' answers for a period.\n",
    "\n",
    "HOW TO:\n",
    "1. Let's gather the answers (a couple of hundreds);\n",
    "2. Eliminate unique values;\n",
    "3. Use an easy method to find the 'Sorry' answers.\n",
    "4. Count them.\n",
    "\n",
    "This method is a bit dummy but fast to implement."
   ]
  },
  {
   "cell_type": "code",
   "execution_count": 1,
   "metadata": {},
   "outputs": [
    {
     "ename": "NameError",
     "evalue": "name 'config' is not defined",
     "output_type": "error",
     "traceback": [
      "\u001b[1;31m---------------------------------------------------------------------------\u001b[0m",
      "\u001b[1;31mNameError\u001b[0m                                 Traceback (most recent call last)",
      "Cell \u001b[1;32mIn[1], line 6\u001b[0m\n\u001b[0;32m      2\u001b[0m \u001b[38;5;28;01mimport\u001b[39;00m \u001b[38;5;21;01mpsycopg2\u001b[39;00m\n\u001b[0;32m      3\u001b[0m \u001b[38;5;28;01mfrom\u001b[39;00m \u001b[38;5;21;01mpsycopg2\u001b[39;00m \u001b[38;5;28;01mimport\u001b[39;00m sql\n\u001b[0;32m      5\u001b[0m db_config \u001b[38;5;241m=\u001b[39m {\n\u001b[1;32m----> 6\u001b[0m     \u001b[38;5;124m'\u001b[39m\u001b[38;5;124mhost\u001b[39m\u001b[38;5;124m'\u001b[39m: \u001b[43mconfig\u001b[49m[\u001b[38;5;124m'\u001b[39m\u001b[38;5;124mDatabase\u001b[39m\u001b[38;5;124m'\u001b[39m][\u001b[38;5;124m'\u001b[39m\u001b[38;5;124mhost\u001b[39m\u001b[38;5;124m'\u001b[39m],\n\u001b[0;32m      7\u001b[0m     \u001b[38;5;124m'\u001b[39m\u001b[38;5;124mdatabase\u001b[39m\u001b[38;5;124m'\u001b[39m: config[\u001b[38;5;124m'\u001b[39m\u001b[38;5;124mDatabase\u001b[39m\u001b[38;5;124m'\u001b[39m][\u001b[38;5;124m'\u001b[39m\u001b[38;5;124mdatabase\u001b[39m\u001b[38;5;124m'\u001b[39m],\n\u001b[0;32m      8\u001b[0m     \u001b[38;5;124m'\u001b[39m\u001b[38;5;124muser\u001b[39m\u001b[38;5;124m'\u001b[39m: config[\u001b[38;5;124m'\u001b[39m\u001b[38;5;124mDatabase\u001b[39m\u001b[38;5;124m'\u001b[39m][\u001b[38;5;124m'\u001b[39m\u001b[38;5;124muser\u001b[39m\u001b[38;5;124m'\u001b[39m],\n\u001b[0;32m      9\u001b[0m     \u001b[38;5;124m'\u001b[39m\u001b[38;5;124mpassword\u001b[39m\u001b[38;5;124m'\u001b[39m: config[\u001b[38;5;124m'\u001b[39m\u001b[38;5;124mDatabase\u001b[39m\u001b[38;5;124m'\u001b[39m][\u001b[38;5;124m'\u001b[39m\u001b[38;5;124mpassword\u001b[39m\u001b[38;5;124m'\u001b[39m],\n\u001b[0;32m     10\u001b[0m     \u001b[38;5;124m'\u001b[39m\u001b[38;5;124mport\u001b[39m\u001b[38;5;124m'\u001b[39m: config[\u001b[38;5;124m'\u001b[39m\u001b[38;5;124mDatabase\u001b[39m\u001b[38;5;124m'\u001b[39m][\u001b[38;5;124m'\u001b[39m\u001b[38;5;124mport\u001b[39m\u001b[38;5;124m'\u001b[39m]\n\u001b[0;32m     11\u001b[0m }\n\u001b[0;32m     13\u001b[0m query \u001b[38;5;241m=\u001b[39m sql\u001b[38;5;241m.\u001b[39mSQL(\u001b[38;5;124m\"\u001b[39m\u001b[38;5;124mselect answer from messages where created_at >= timestamp with time zone \u001b[39m\u001b[38;5;124m'\u001b[39m\u001b[38;5;124m2024-02-01 00:00:00.000Z\u001b[39m\u001b[38;5;124m'\u001b[39m\u001b[38;5;124m\"\u001b[39m)\n\u001b[0;32m     15\u001b[0m connection \u001b[38;5;241m=\u001b[39m psycopg2\u001b[38;5;241m.\u001b[39mconnect(\u001b[38;5;241m*\u001b[39m\u001b[38;5;241m*\u001b[39mdb_config)\n",
      "\u001b[1;31mNameError\u001b[0m: name 'config' is not defined"
     ]
    }
   ],
   "source": [
    "import os\n",
    "import psycopg2\n",
    "from psycopg2 import sql\n",
    "\n",
    "db_config = {\n",
    "        'host': os.environ.get('DB_HOST'),\n",
    "        'database': os.environ.get('DB_NAME'),\n",
    "        'user': os.environ.get('DB_USER'),\n",
    "        'password': os.environ.get('DB_PASSWORD'),\n",
    "        'port': os.environ.get('DB_PORT')\n",
    "    }\n",
    "\n",
    "query = sql.SQL(\"select answer from messages where created_at >= timestamp with time zone '2024-02-01 00:00:00.000Z'\")\n",
    "\n",
    "connection = psycopg2.connect(**db_config)\n",
    "cursor = connection.cursor()\n",
    "cursor.execute(query)\n",
    "result = cursor.fetchall()\n",
    "cursor.close()\n"
   ]
  },
  {
   "cell_type": "code",
   "execution_count": null,
   "metadata": {},
   "outputs": [],
   "source": [
    "import re\n",
    "\n",
    "def formating(text):\n",
    "    truncated_text = text[:50]\n",
    "    pattern = r'[\\x1b\\t\\n\\r\\f\\v]'\n",
    "    return re.sub(pattern, '', truncated_text)\n",
    "\n",
    "answer_tup = result[0:5]\n",
    "answer_list = [tup[0] for tup in result]\n",
    "answer_list = [formating(item) for item in answer_list]\n",
    "\n",
    "print(len(answer_list))"
   ]
  },
  {
   "cell_type": "code",
   "execution_count": null,
   "metadata": {},
   "outputs": [],
   "source": [
    "from collections import Counter\n",
    "\n",
    "# Count occurrences of each item\n",
    "item_counts = Counter(answer_list)\n",
    "\n",
    "# Filter items with count greater than 1\n",
    "duplicates = {item: count for item, count in item_counts.items() if count > 1}\n",
    "\n",
    "for item, count in duplicates.items():\n",
    "    print(f\"{item}: {count}\")"
   ]
  },
  {
   "cell_type": "code",
   "execution_count": null,
   "metadata": {},
   "outputs": [],
   "source": [
    "sorry_answers = [\n",
    "    \"orry, I can't find the answer to t\",\n",
    "    \"orry, we don't have an answer to y\",\n",
    "    \"orry, I don't have the informatio\"\n",
    "]\n",
    "\n",
    "filtered_item_counts = {item: count for item, count in item_counts.items() if any(sub in item for sub in sorry_answers)}\n",
    "\n",
    "# Calculate total count of all items in the original list\n",
    "total_count = sum(item_counts.values())\n",
    "\n",
    "# Calculate percentage for each item\n",
    "percentage_items = {item: (count / total_count) * 100 for item, count in filtered_item_counts.items()}\n",
    "\n",
    "for item, percentage in percentage_items.items():\n",
    "    print(f\"{item}: {percentage:.2f}%\")"
   ]
  }
 ],
 "metadata": {
  "kernelspec": {
   "display_name": "Python 3",
   "language": "python",
   "name": "python3"
  },
  "language_info": {
   "codemirror_mode": {
    "name": "ipython",
    "version": 3
   },
   "file_extension": ".py",
   "mimetype": "text/x-python",
   "name": "python",
   "nbconvert_exporter": "python",
   "pygments_lexer": "ipython3",
   "version": "3.11.8"
  }
 },
 "nbformat": 4,
 "nbformat_minor": 2
}
